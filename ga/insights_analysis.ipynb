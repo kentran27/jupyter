{
 "cells": [
  {
   "cell_type": "code",
   "execution_count": 23,
   "metadata": {},
   "outputs": [],
   "source": [
    "import gspread\n",
    "from oauth2client.service_account import ServiceAccountCredentials\n",
    "import matplotlib.pyplot as plt\n",
    "import pandas as pd \n",
    "import seaborn as sns \n",
    "%matplotlib inline"
   ]
  },
  {
   "cell_type": "code",
   "execution_count": 24,
   "metadata": {},
   "outputs": [],
   "source": [
    "# use creds to create a client to interact with the Google Drive API\n",
    "scope = ['https://spreadsheets.google.com/feeds']\n",
    "creds = ServiceAccountCredentials.from_json_keyfile_name('client_secret.json', scope)\n",
    "client = gspread.authorize(creds)"
   ]
  },
  {
   "cell_type": "code",
   "execution_count": 25,
   "metadata": {},
   "outputs": [],
   "source": [
    "# Find and open workbook by URL (returns a sheet object)\n",
    "sheet = client.open_by_url('https://docs.google.com/spreadsheets/d/1wdpG5Nu5f4mZTKN7H_DgqRXoIsYpef5ZwYeLl-OTYOE/edit#gid=1773034183')"
   ]
  },
  {
   "cell_type": "code",
   "execution_count": 26,
   "metadata": {
    "scrolled": false
   },
   "outputs": [],
   "source": [
    "# Get worksheet and records within e.g. all records in worksheet number 1, 2\n",
    "raw = sheet.get_worksheet(0).get_all_records()"
   ]
  },
  {
   "cell_type": "code",
   "execution_count": 27,
   "metadata": {},
   "outputs": [],
   "source": [
    "df = pd.DataFrame(raw)"
   ]
  },
  {
   "cell_type": "code",
   "execution_count": 30,
   "metadata": {},
   "outputs": [
    {
     "data": {
      "text/html": [
       "<div>\n",
       "<style scoped>\n",
       "    .dataframe tbody tr th:only-of-type {\n",
       "        vertical-align: middle;\n",
       "    }\n",
       "\n",
       "    .dataframe tbody tr th {\n",
       "        vertical-align: top;\n",
       "    }\n",
       "\n",
       "    .dataframe thead th {\n",
       "        text-align: right;\n",
       "    }\n",
       "</style>\n",
       "<table border=\"1\" class=\"dataframe\">\n",
       "  <thead>\n",
       "    <tr style=\"text-align: right;\">\n",
       "      <th></th>\n",
       "      <th>Client Type</th>\n",
       "      <th>Name</th>\n",
       "      <th>Status</th>\n",
       "      <th>Total Entity Views</th>\n",
       "      <th>Total IP Profile Views</th>\n",
       "      <th>Total Insight Views</th>\n",
       "      <th>Total Unique Entity Views</th>\n",
       "      <th>Total Unique IP Profile Views</th>\n",
       "      <th>Total Unique Insight Views</th>\n",
       "    </tr>\n",
       "  </thead>\n",
       "  <tbody>\n",
       "    <tr>\n",
       "      <th>0</th>\n",
       "      <td>internal</td>\n",
       "      <td>Adinda Praditya</td>\n",
       "      <td>Live</td>\n",
       "      <td>160</td>\n",
       "      <td>18</td>\n",
       "      <td>210</td>\n",
       "      <td>81</td>\n",
       "      <td>11</td>\n",
       "      <td>142</td>\n",
       "    </tr>\n",
       "    <tr>\n",
       "      <th>1</th>\n",
       "      <td>internal</td>\n",
       "      <td>Raghav Kapoor</td>\n",
       "      <td>Live</td>\n",
       "      <td>13146</td>\n",
       "      <td>1753</td>\n",
       "      <td>18976</td>\n",
       "      <td>1898</td>\n",
       "      <td>273</td>\n",
       "      <td>6642</td>\n",
       "    </tr>\n",
       "    <tr>\n",
       "      <th>2</th>\n",
       "      <td>internal</td>\n",
       "      <td>Lee Mitchell</td>\n",
       "      <td>Live</td>\n",
       "      <td>2337</td>\n",
       "      <td>643</td>\n",
       "      <td>17233</td>\n",
       "      <td>805</td>\n",
       "      <td>137</td>\n",
       "      <td>6749</td>\n",
       "    </tr>\n",
       "  </tbody>\n",
       "</table>\n",
       "</div>"
      ],
      "text/plain": [
       "  Client Type             Name Status  Total Entity Views  \\\n",
       "0    internal  Adinda Praditya   Live                 160   \n",
       "1    internal    Raghav Kapoor   Live               13146   \n",
       "2    internal     Lee Mitchell   Live                2337   \n",
       "\n",
       "   Total IP Profile Views  Total Insight Views  Total Unique Entity Views  \\\n",
       "0                      18                  210                         81   \n",
       "1                    1753                18976                       1898   \n",
       "2                     643                17233                        805   \n",
       "\n",
       "   Total Unique IP Profile Views  Total Unique Insight Views  \n",
       "0                             11                         142  \n",
       "1                            273                        6642  \n",
       "2                            137                        6749  "
      ]
     },
     "execution_count": 30,
     "metadata": {},
     "output_type": "execute_result"
    }
   ],
   "source": [
    "df.head(3)"
   ]
  },
  {
   "cell_type": "code",
   "execution_count": 29,
   "metadata": {
    "scrolled": false
   },
   "outputs": [],
   "source": [
    "external = df[ (df['Client Type']!='internal') & (df['Status']!='Suspended') ]"
   ]
  },
  {
   "cell_type": "code",
   "execution_count": 45,
   "metadata": {},
   "outputs": [
    {
     "data": {
      "text/html": [
       "<div>\n",
       "<style scoped>\n",
       "    .dataframe tbody tr th:only-of-type {\n",
       "        vertical-align: middle;\n",
       "    }\n",
       "\n",
       "    .dataframe tbody tr th {\n",
       "        vertical-align: top;\n",
       "    }\n",
       "\n",
       "    .dataframe thead th {\n",
       "        text-align: right;\n",
       "    }\n",
       "</style>\n",
       "<table border=\"1\" class=\"dataframe\">\n",
       "  <thead>\n",
       "    <tr style=\"text-align: right;\">\n",
       "      <th></th>\n",
       "      <th>Client Type</th>\n",
       "      <th>Name</th>\n",
       "      <th>Status</th>\n",
       "      <th>Total Entity Views</th>\n",
       "      <th>Total IP Profile Views</th>\n",
       "      <th>Total Insight Views</th>\n",
       "      <th>Total Unique Entity Views</th>\n",
       "      <th>Total Unique IP Profile Views</th>\n",
       "      <th>Total Unique Insight Views</th>\n",
       "    </tr>\n",
       "  </thead>\n",
       "  <tbody>\n",
       "    <tr>\n",
       "      <th>12</th>\n",
       "      <td>investor</td>\n",
       "      <td>Tan Chin-Hwee</td>\n",
       "      <td>Live</td>\n",
       "      <td>15</td>\n",
       "      <td>13</td>\n",
       "      <td>327</td>\n",
       "      <td>12</td>\n",
       "      <td>11</td>\n",
       "      <td>232</td>\n",
       "    </tr>\n",
       "    <tr>\n",
       "      <th>18</th>\n",
       "      <td>professional</td>\n",
       "      <td>Phil King</td>\n",
       "      <td>Live</td>\n",
       "      <td>5</td>\n",
       "      <td>0</td>\n",
       "      <td>28</td>\n",
       "      <td>4</td>\n",
       "      <td>0</td>\n",
       "      <td>21</td>\n",
       "    </tr>\n",
       "    <tr>\n",
       "      <th>21</th>\n",
       "      <td>professional</td>\n",
       "      <td>Kim Yu Ang</td>\n",
       "      <td>Live</td>\n",
       "      <td>0</td>\n",
       "      <td>2</td>\n",
       "      <td>41</td>\n",
       "      <td>0</td>\n",
       "      <td>1</td>\n",
       "      <td>37</td>\n",
       "    </tr>\n",
       "  </tbody>\n",
       "</table>\n",
       "</div>"
      ],
      "text/plain": [
       "     Client Type           Name Status  Total Entity Views  \\\n",
       "12      investor  Tan Chin-Hwee   Live                  15   \n",
       "18  professional      Phil King   Live                   5   \n",
       "21  professional     Kim Yu Ang   Live                   0   \n",
       "\n",
       "    Total IP Profile Views  Total Insight Views  Total Unique Entity Views  \\\n",
       "12                      13                  327                         12   \n",
       "18                       0                   28                          4   \n",
       "21                       2                   41                          0   \n",
       "\n",
       "    Total Unique IP Profile Views  Total Unique Insight Views  \n",
       "12                             11                         232  \n",
       "18                              0                          21  \n",
       "21                              1                          37  "
      ]
     },
     "execution_count": 45,
     "metadata": {},
     "output_type": "execute_result"
    }
   ],
   "source": [
    "external.head(3)"
   ]
  },
  {
   "cell_type": "code",
   "execution_count": 46,
   "metadata": {},
   "outputs": [
    {
     "data": {
      "text/plain": [
       "Index(['Client Type', 'Name', 'Status', 'Total Entity Views',\n",
       "       'Total IP Profile Views', 'Total Insight Views',\n",
       "       'Total Unique Entity Views', 'Total Unique IP Profile Views',\n",
       "       'Total Unique Insight Views'],\n",
       "      dtype='object')"
      ]
     },
     "execution_count": 46,
     "metadata": {},
     "output_type": "execute_result"
    }
   ],
   "source": [
    "external.columns"
   ]
  },
  {
   "cell_type": "code",
   "execution_count": 35,
   "metadata": {},
   "outputs": [
    {
     "name": "stdout",
     "output_type": "stream",
     "text": [
      "<class 'pandas.core.frame.DataFrame'>\n",
      "Int64Index: 602 entries, 12 to 1549\n",
      "Data columns (total 9 columns):\n",
      "Client Type                      602 non-null object\n",
      "Name                             602 non-null object\n",
      "Status                           602 non-null object\n",
      "Total Entity Views               602 non-null int64\n",
      "Total IP Profile Views           602 non-null int64\n",
      "Total Insight Views              602 non-null int64\n",
      "Total Unique Entity Views        602 non-null int64\n",
      "Total Unique IP Profile Views    602 non-null int64\n",
      "Total Unique Insight Views       602 non-null int64\n",
      "dtypes: int64(6), object(3)\n",
      "memory usage: 47.0+ KB\n"
     ]
    }
   ],
   "source": [
    "external.info()"
   ]
  },
  {
   "cell_type": "code",
   "execution_count": 36,
   "metadata": {},
   "outputs": [
    {
     "data": {
      "text/html": [
       "<div>\n",
       "<style scoped>\n",
       "    .dataframe tbody tr th:only-of-type {\n",
       "        vertical-align: middle;\n",
       "    }\n",
       "\n",
       "    .dataframe tbody tr th {\n",
       "        vertical-align: top;\n",
       "    }\n",
       "\n",
       "    .dataframe thead th {\n",
       "        text-align: right;\n",
       "    }\n",
       "</style>\n",
       "<table border=\"1\" class=\"dataframe\">\n",
       "  <thead>\n",
       "    <tr style=\"text-align: right;\">\n",
       "      <th></th>\n",
       "      <th>Total Entity Views</th>\n",
       "      <th>Total IP Profile Views</th>\n",
       "      <th>Total Insight Views</th>\n",
       "      <th>Total Unique Entity Views</th>\n",
       "      <th>Total Unique IP Profile Views</th>\n",
       "      <th>Total Unique Insight Views</th>\n",
       "    </tr>\n",
       "  </thead>\n",
       "  <tbody>\n",
       "    <tr>\n",
       "      <th>count</th>\n",
       "      <td>602.000000</td>\n",
       "      <td>602.000000</td>\n",
       "      <td>602.000000</td>\n",
       "      <td>602.000000</td>\n",
       "      <td>602.000000</td>\n",
       "      <td>602.000000</td>\n",
       "    </tr>\n",
       "    <tr>\n",
       "      <th>mean</th>\n",
       "      <td>24.709302</td>\n",
       "      <td>9.923588</td>\n",
       "      <td>144.581395</td>\n",
       "      <td>11.599668</td>\n",
       "      <td>4.235880</td>\n",
       "      <td>93.822259</td>\n",
       "    </tr>\n",
       "    <tr>\n",
       "      <th>std</th>\n",
       "      <td>55.321299</td>\n",
       "      <td>21.636172</td>\n",
       "      <td>324.794230</td>\n",
       "      <td>22.826573</td>\n",
       "      <td>7.446147</td>\n",
       "      <td>197.273141</td>\n",
       "    </tr>\n",
       "    <tr>\n",
       "      <th>min</th>\n",
       "      <td>0.000000</td>\n",
       "      <td>0.000000</td>\n",
       "      <td>0.000000</td>\n",
       "      <td>0.000000</td>\n",
       "      <td>0.000000</td>\n",
       "      <td>0.000000</td>\n",
       "    </tr>\n",
       "    <tr>\n",
       "      <th>25%</th>\n",
       "      <td>0.000000</td>\n",
       "      <td>0.000000</td>\n",
       "      <td>3.000000</td>\n",
       "      <td>0.000000</td>\n",
       "      <td>0.000000</td>\n",
       "      <td>2.000000</td>\n",
       "    </tr>\n",
       "    <tr>\n",
       "      <th>50%</th>\n",
       "      <td>4.000000</td>\n",
       "      <td>2.000000</td>\n",
       "      <td>28.000000</td>\n",
       "      <td>2.000000</td>\n",
       "      <td>1.000000</td>\n",
       "      <td>21.000000</td>\n",
       "    </tr>\n",
       "    <tr>\n",
       "      <th>75%</th>\n",
       "      <td>22.000000</td>\n",
       "      <td>9.750000</td>\n",
       "      <td>137.500000</td>\n",
       "      <td>13.000000</td>\n",
       "      <td>5.000000</td>\n",
       "      <td>96.750000</td>\n",
       "    </tr>\n",
       "    <tr>\n",
       "      <th>max</th>\n",
       "      <td>456.000000</td>\n",
       "      <td>263.000000</td>\n",
       "      <td>4519.000000</td>\n",
       "      <td>189.000000</td>\n",
       "      <td>57.000000</td>\n",
       "      <td>2553.000000</td>\n",
       "    </tr>\n",
       "  </tbody>\n",
       "</table>\n",
       "</div>"
      ],
      "text/plain": [
       "       Total Entity Views  Total IP Profile Views  Total Insight Views  \\\n",
       "count          602.000000              602.000000           602.000000   \n",
       "mean            24.709302                9.923588           144.581395   \n",
       "std             55.321299               21.636172           324.794230   \n",
       "min              0.000000                0.000000             0.000000   \n",
       "25%              0.000000                0.000000             3.000000   \n",
       "50%              4.000000                2.000000            28.000000   \n",
       "75%             22.000000                9.750000           137.500000   \n",
       "max            456.000000              263.000000          4519.000000   \n",
       "\n",
       "       Total Unique Entity Views  Total Unique IP Profile Views  \\\n",
       "count                 602.000000                     602.000000   \n",
       "mean                   11.599668                       4.235880   \n",
       "std                    22.826573                       7.446147   \n",
       "min                     0.000000                       0.000000   \n",
       "25%                     0.000000                       0.000000   \n",
       "50%                     2.000000                       1.000000   \n",
       "75%                    13.000000                       5.000000   \n",
       "max                   189.000000                      57.000000   \n",
       "\n",
       "       Total Unique Insight Views  \n",
       "count                  602.000000  \n",
       "mean                    93.822259  \n",
       "std                    197.273141  \n",
       "min                      0.000000  \n",
       "25%                      2.000000  \n",
       "50%                     21.000000  \n",
       "75%                     96.750000  \n",
       "max                   2553.000000  "
      ]
     },
     "execution_count": 36,
     "metadata": {},
     "output_type": "execute_result"
    }
   ],
   "source": [
    "external.describe()"
   ]
  },
  {
   "cell_type": "code",
   "execution_count": 44,
   "metadata": {
    "scrolled": false
   },
   "outputs": [
    {
     "data": {
      "text/plain": [
       "93.9783693843594"
      ]
     },
     "execution_count": 44,
     "metadata": {},
     "output_type": "execute_result"
    }
   ],
   "source": [
    "# On average, each client views about 94 unique insights\n",
    "external['Total Unique Insight Views'].sum() / external['Name'].nunique()"
   ]
  },
  {
   "cell_type": "code",
   "execution_count": 47,
   "metadata": {},
   "outputs": [
    {
     "data": {
      "text/plain": [
       "11.618968386023294"
      ]
     },
     "execution_count": 47,
     "metadata": {},
     "output_type": "execute_result"
    }
   ],
   "source": [
    "# 11 unique entities \n",
    "external['Total Unique Entity Views'].sum() / external['Name'].nunique()"
   ]
  },
  {
   "cell_type": "code",
   "execution_count": 48,
   "metadata": {},
   "outputs": [
    {
     "data": {
      "text/plain": [
       "4.242928452579035"
      ]
     },
     "execution_count": 48,
     "metadata": {},
     "output_type": "execute_result"
    }
   ],
   "source": [
    "# 4 unique IP profiles \n",
    "external['Total Unique IP Profile Views'].sum() / external['Name'].nunique()"
   ]
  },
  {
   "cell_type": "code",
   "execution_count": 54,
   "metadata": {},
   "outputs": [
    {
     "data": {
      "text/html": [
       "<div>\n",
       "<style scoped>\n",
       "    .dataframe tbody tr th:only-of-type {\n",
       "        vertical-align: middle;\n",
       "    }\n",
       "\n",
       "    .dataframe tbody tr th {\n",
       "        vertical-align: top;\n",
       "    }\n",
       "\n",
       "    .dataframe thead th {\n",
       "        text-align: right;\n",
       "    }\n",
       "</style>\n",
       "<table border=\"1\" class=\"dataframe\">\n",
       "  <thead>\n",
       "    <tr style=\"text-align: right;\">\n",
       "      <th></th>\n",
       "      <th>Client Type</th>\n",
       "      <th>Name</th>\n",
       "      <th>Status</th>\n",
       "      <th>Total Entity Views</th>\n",
       "      <th>Total IP Profile Views</th>\n",
       "      <th>Total Insight Views</th>\n",
       "      <th>Total Unique Entity Views</th>\n",
       "      <th>Total Unique IP Profile Views</th>\n",
       "      <th>Total Unique Insight Views</th>\n",
       "    </tr>\n",
       "  </thead>\n",
       "  <tbody>\n",
       "    <tr>\n",
       "      <th>12</th>\n",
       "      <td>investor</td>\n",
       "      <td>Tan Chin-Hwee</td>\n",
       "      <td>Live</td>\n",
       "      <td>15</td>\n",
       "      <td>13</td>\n",
       "      <td>327</td>\n",
       "      <td>12</td>\n",
       "      <td>11</td>\n",
       "      <td>232</td>\n",
       "    </tr>\n",
       "    <tr>\n",
       "      <th>18</th>\n",
       "      <td>professional</td>\n",
       "      <td>Phil King</td>\n",
       "      <td>Live</td>\n",
       "      <td>5</td>\n",
       "      <td>0</td>\n",
       "      <td>28</td>\n",
       "      <td>4</td>\n",
       "      <td>0</td>\n",
       "      <td>21</td>\n",
       "    </tr>\n",
       "    <tr>\n",
       "      <th>21</th>\n",
       "      <td>professional</td>\n",
       "      <td>Kim Yu Ang</td>\n",
       "      <td>Live</td>\n",
       "      <td>0</td>\n",
       "      <td>2</td>\n",
       "      <td>41</td>\n",
       "      <td>0</td>\n",
       "      <td>1</td>\n",
       "      <td>37</td>\n",
       "    </tr>\n",
       "  </tbody>\n",
       "</table>\n",
       "</div>"
      ],
      "text/plain": [
       "     Client Type           Name Status  Total Entity Views  \\\n",
       "12      investor  Tan Chin-Hwee   Live                  15   \n",
       "18  professional      Phil King   Live                   5   \n",
       "21  professional     Kim Yu Ang   Live                   0   \n",
       "\n",
       "    Total IP Profile Views  Total Insight Views  Total Unique Entity Views  \\\n",
       "12                      13                  327                         12   \n",
       "18                       0                   28                          4   \n",
       "21                       2                   41                          0   \n",
       "\n",
       "    Total Unique IP Profile Views  Total Unique Insight Views  \n",
       "12                             11                         232  \n",
       "18                              0                          21  \n",
       "21                              1                          37  "
      ]
     },
     "execution_count": 54,
     "metadata": {},
     "output_type": "execute_result"
    }
   ],
   "source": [
    "external.head(3)"
   ]
  },
  {
   "cell_type": "code",
   "execution_count": 59,
   "metadata": {},
   "outputs": [
    {
     "data": {
      "text/plain": [
       "<matplotlib.axes._subplots.AxesSubplot at 0x1a0fbcc0b8>"
      ]
     },
     "execution_count": 59,
     "metadata": {},
     "output_type": "execute_result"
    },
    {
     "data": {
      "image/png": "[encoded data removed]",
      "text/plain": [
       "<matplotlib.figure.Figure at 0x1a0fd94438>"
      ]
     },
     "metadata": {},
     "output_type": "display_data"
    }
   ],
   "source": [
    "plt.figure(figsize=(12,6))\n",
    "sns.distplot(external['Total Unique Insight Views'],kde=False,bins=30)"
   ]
  },
  {
   "cell_type": "code",
   "execution_count": 60,
   "metadata": {},
   "outputs": [
    {
     "data": {
      "text/plain": [
       "count     602.000000\n",
       "mean       93.822259\n",
       "std       197.273141\n",
       "min         0.000000\n",
       "25%         2.000000\n",
       "50%        21.000000\n",
       "75%        96.750000\n",
       "max      2553.000000\n",
       "Name: Total Unique Insight Views, dtype: float64"
      ]
     },
     "execution_count": 60,
     "metadata": {},
     "output_type": "execute_result"
    }
   ],
   "source": [
    "external['Total Unique Insight Views'].describe()"
   ]
  },
  {
   "cell_type": "code",
   "execution_count": 64,
   "metadata": {},
   "outputs": [
    {
     "data": {
      "text/plain": [
       "<matplotlib.axes._subplots.AxesSubplot at 0x1a131264a8>"
      ]
     },
     "execution_count": 64,
     "metadata": {},
     "output_type": "execute_result"
    },
    {
     "data": {
      "image/png": "[encoded data removed]",
      "text/plain": [
       "<matplotlib.figure.Figure at 0x1a130f07b8>"
      ]
     },
     "metadata": {},
     "output_type": "display_data"
    }
   ],
   "source": [
    "plt.figure(figsize=(6,6))\n",
    "sns.boxplot(x='Client Type',y='Total Unique Insight Views',data=external)\n",
    "sns.swarmplot(x='Client Type',y='Total Unique Insight Views',data=external,color='black', alpha=0.3)"
   ]
  },
  {
   "cell_type": "code",
   "execution_count": 65,
   "metadata": {},
   "outputs": [
    {
     "data": {
      "text/plain": [
       "count     370.000000\n",
       "mean      125.340541\n",
       "std       238.032650\n",
       "min         0.000000\n",
       "25%         4.000000\n",
       "50%        34.000000\n",
       "75%       154.750000\n",
       "max      2553.000000\n",
       "Name: Total Unique Insight Views, dtype: float64"
      ]
     },
     "execution_count": 65,
     "metadata": {},
     "output_type": "execute_result"
    }
   ],
   "source": [
    "external[external['Client Type'] == 'professional']['Total Unique Insight Views'].describe()"
   ]
  },
  {
   "cell_type": "code",
   "execution_count": 67,
   "metadata": {},
   "outputs": [],
   "source": [
    "ex_5 = external[external['Total Unique Insight Views']<=500]"
   ]
  },
  {
   "cell_type": "code",
   "execution_count": 68,
   "metadata": {},
   "outputs": [
    {
     "data": {
      "text/plain": [
       "<matplotlib.axes._subplots.AxesSubplot at 0x1a12b055f8>"
      ]
     },
     "execution_count": 68,
     "metadata": {},
     "output_type": "execute_result"
    },
    {
     "data": {
      "image/png": "[encoded data removed]",
      "text/plain": [
       "<matplotlib.figure.Figure at 0x1a132b54e0>"
      ]
     },
     "metadata": {},
     "output_type": "display_data"
    }
   ],
   "source": [
    "plt.figure(figsize=(8,8))\n",
    "sns.boxplot(x='Client Type',y='Total Unique Insight Views',data=ex_5)\n",
    "sns.swarmplot(x='Client Type',y='Total Unique Insight Views',data=ex_5,color='black', alpha=0.3)"
   ]
  },
  {
   "cell_type": "code",
   "execution_count": 71,
   "metadata": {},
   "outputs": [
    {
     "data": {
      "text/html": [
       "<div>\n",
       "<style scoped>\n",
       "    .dataframe tbody tr th:only-of-type {\n",
       "        vertical-align: middle;\n",
       "    }\n",
       "\n",
       "    .dataframe tbody tr th {\n",
       "        vertical-align: top;\n",
       "    }\n",
       "\n",
       "    .dataframe thead th {\n",
       "        text-align: right;\n",
       "    }\n",
       "</style>\n",
       "<table border=\"1\" class=\"dataframe\">\n",
       "  <thead>\n",
       "    <tr style=\"text-align: right;\">\n",
       "      <th></th>\n",
       "      <th>Total Entity Views</th>\n",
       "      <th>Total IP Profile Views</th>\n",
       "      <th>Total Insight Views</th>\n",
       "      <th>Total Unique Entity Views</th>\n",
       "      <th>Total Unique IP Profile Views</th>\n",
       "      <th>Total Unique Insight Views</th>\n",
       "    </tr>\n",
       "  </thead>\n",
       "  <tbody>\n",
       "    <tr>\n",
       "      <th>count</th>\n",
       "      <td>346.000000</td>\n",
       "      <td>346.000000</td>\n",
       "      <td>346.000000</td>\n",
       "      <td>346.000000</td>\n",
       "      <td>346.000000</td>\n",
       "      <td>346.000000</td>\n",
       "    </tr>\n",
       "    <tr>\n",
       "      <th>mean</th>\n",
       "      <td>23.560694</td>\n",
       "      <td>9.184971</td>\n",
       "      <td>121.473988</td>\n",
       "      <td>10.953757</td>\n",
       "      <td>3.829480</td>\n",
       "      <td>79.699422</td>\n",
       "    </tr>\n",
       "    <tr>\n",
       "      <th>std</th>\n",
       "      <td>43.837223</td>\n",
       "      <td>21.359732</td>\n",
       "      <td>177.916185</td>\n",
       "      <td>17.535493</td>\n",
       "      <td>6.692617</td>\n",
       "      <td>110.456848</td>\n",
       "    </tr>\n",
       "    <tr>\n",
       "      <th>min</th>\n",
       "      <td>0.000000</td>\n",
       "      <td>0.000000</td>\n",
       "      <td>0.000000</td>\n",
       "      <td>0.000000</td>\n",
       "      <td>0.000000</td>\n",
       "      <td>0.000000</td>\n",
       "    </tr>\n",
       "    <tr>\n",
       "      <th>25%</th>\n",
       "      <td>0.000000</td>\n",
       "      <td>0.000000</td>\n",
       "      <td>3.000000</td>\n",
       "      <td>0.000000</td>\n",
       "      <td>0.000000</td>\n",
       "      <td>3.000000</td>\n",
       "    </tr>\n",
       "    <tr>\n",
       "      <th>50%</th>\n",
       "      <td>4.000000</td>\n",
       "      <td>2.000000</td>\n",
       "      <td>33.500000</td>\n",
       "      <td>3.000000</td>\n",
       "      <td>1.000000</td>\n",
       "      <td>26.000000</td>\n",
       "    </tr>\n",
       "    <tr>\n",
       "      <th>75%</th>\n",
       "      <td>25.000000</td>\n",
       "      <td>9.000000</td>\n",
       "      <td>176.500000</td>\n",
       "      <td>14.000000</td>\n",
       "      <td>5.000000</td>\n",
       "      <td>119.000000</td>\n",
       "    </tr>\n",
       "    <tr>\n",
       "      <th>max</th>\n",
       "      <td>347.000000</td>\n",
       "      <td>263.000000</td>\n",
       "      <td>942.000000</td>\n",
       "      <td>113.000000</td>\n",
       "      <td>57.000000</td>\n",
       "      <td>474.000000</td>\n",
       "    </tr>\n",
       "  </tbody>\n",
       "</table>\n",
       "</div>"
      ],
      "text/plain": [
       "       Total Entity Views  Total IP Profile Views  Total Insight Views  \\\n",
       "count          346.000000              346.000000           346.000000   \n",
       "mean            23.560694                9.184971           121.473988   \n",
       "std             43.837223               21.359732           177.916185   \n",
       "min              0.000000                0.000000             0.000000   \n",
       "25%              0.000000                0.000000             3.000000   \n",
       "50%              4.000000                2.000000            33.500000   \n",
       "75%             25.000000                9.000000           176.500000   \n",
       "max            347.000000              263.000000           942.000000   \n",
       "\n",
       "       Total Unique Entity Views  Total Unique IP Profile Views  \\\n",
       "count                 346.000000                     346.000000   \n",
       "mean                   10.953757                       3.829480   \n",
       "std                    17.535493                       6.692617   \n",
       "min                     0.000000                       0.000000   \n",
       "25%                     0.000000                       0.000000   \n",
       "50%                     3.000000                       1.000000   \n",
       "75%                    14.000000                       5.000000   \n",
       "max                   113.000000                      57.000000   \n",
       "\n",
       "       Total Unique Insight Views  \n",
       "count                  346.000000  \n",
       "mean                    79.699422  \n",
       "std                    110.456848  \n",
       "min                      0.000000  \n",
       "25%                      3.000000  \n",
       "50%                     26.000000  \n",
       "75%                    119.000000  \n",
       "max                    474.000000  "
      ]
     },
     "execution_count": 71,
     "metadata": {},
     "output_type": "execute_result"
    }
   ],
   "source": [
    "ex_5[ex_5['Client Type']=='professional'].describe()"
   ]
  },
  {
   "cell_type": "code",
   "execution_count": null,
   "metadata": {},
   "outputs": [],
   "source": []
  }
 ],
 "metadata": {
  "kernelspec": {
   "display_name": "Python 3",
   "language": "python",
   "name": "python3"
  },
  "language_info": {
   "codemirror_mode": {
    "name": "ipython",
    "version": 3
   },
   "file_extension": ".py",
   "mimetype": "text/x-python",
   "name": "python",
   "nbconvert_exporter": "python",
   "pygments_lexer": "ipython3",
   "version": "3.6.3"
  }
 },
 "nbformat": 4,
 "nbformat_minor": 2
}
