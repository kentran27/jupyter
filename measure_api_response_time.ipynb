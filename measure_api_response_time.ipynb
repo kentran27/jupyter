{
  "nbformat": 4,
  "nbformat_minor": 0,
  "metadata": {
    "colab": {
      "name": "measure_api_response_time.ipynb",
      "provenance": [],
      "collapsed_sections": [],
      "include_colab_link": true
    },
    "kernelspec": {
      "name": "python3",
      "display_name": "Python 3"
    }
  },
  "cells": [
    {
      "cell_type": "markdown",
      "metadata": {
        "id": "view-in-github",
        "colab_type": "text"
      },
      "source": [
        "<a href=\"https://colab.research.google.com/github/kentran27/jupyter/blob/master/measure_api_response_time.ipynb\" target=\"_parent\"><img src=\"https://colab.research.google.com/assets/colab-badge.svg\" alt=\"Open In Colab\"/></a>"
      ]
    },
    {
      "cell_type": "code",
      "metadata": {
        "id": "Hw22qy7AeDkA",
        "colab_type": "code",
        "colab": {}
      },
      "source": [
        "import requests"
      ],
      "execution_count": 0,
      "outputs": []
    },
    {
      "cell_type": "code",
      "metadata": {
        "id": "kECoAVyCeHq5",
        "colab_type": "code",
        "colab": {}
      },
      "source": [
        "url = \"https://api.smartkarma.com/api/v2/entities/7/aggregated-insights\"\n",
        "\n",
        "querystring = {\"sort\":\"-score&-published-at\",\"page[size]\":\"12\",\"page[number]\":\"1\"}\n",
        "\n",
        "headers = {\n",
        "    'Authorization': \"Token token=\\\"\\\", email=\\\"\\\"\",\n",
        "    'API-TOKEN': \"\",\n",
        "    'Cache-control': 'must-revalidate'\n",
        "    }"
      ],
      "execution_count": 0,
      "outputs": []
    },
    {
      "cell_type": "code",
      "metadata": {
        "id": "dsguJSkleuut",
        "colab_type": "code",
        "colab": {}
      },
      "source": [
        "times = []\n",
        "for i in range(10):\n",
        "  res = requests.get(url, headers=headers, params=querystring)\n",
        "  times.append(res.elapsed.total_seconds())\n"
      ],
      "execution_count": 0,
      "outputs": []
    },
    {
      "cell_type": "code",
      "metadata": {
        "id": "2flNXAhxgf8Y",
        "colab_type": "code",
        "colab": {
          "base_uri": "https://localhost:8080/",
          "height": 187
        },
        "outputId": "a58a1364-6b37-4d7b-9da6-13413d38e56b"
      },
      "source": [
        "times"
      ],
      "execution_count": 25,
      "outputs": [
        {
          "output_type": "execute_result",
          "data": {
            "text/plain": [
              "[2.073102,\n",
              " 2.280262,\n",
              " 2.400615,\n",
              " 2.074582,\n",
              " 2.142614,\n",
              " 2.23382,\n",
              " 2.301644,\n",
              " 2.309232,\n",
              " 1.997242,\n",
              " 2.091299]"
            ]
          },
          "metadata": {
            "tags": []
          },
          "execution_count": 25
        }
      ]
    },
    {
      "cell_type": "code",
      "metadata": {
        "id": "U3A0MpsMgsPT",
        "colab_type": "code",
        "colab": {
          "base_uri": "https://localhost:8080/",
          "height": 34
        },
        "outputId": "74f0e465-a0cf-455b-a5cc-3c2ed0159aae"
      },
      "source": [
        "from statistics import mean\n",
        "mean(times)"
      ],
      "execution_count": 26,
      "outputs": [
        {
          "output_type": "execute_result",
          "data": {
            "text/plain": [
              "2.1904412"
            ]
          },
          "metadata": {
            "tags": []
          },
          "execution_count": 26
        }
      ]
    }
  ]
}