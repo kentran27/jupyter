{
 "cells": [
  {
   "cell_type": "code",
   "execution_count": 50,
   "metadata": {
    "collapsed": true
   },
   "outputs": [],
   "source": [
    "import requests\n",
    "from bs4 import BeautifulSoup"
   ]
  },
  {
   "cell_type": "code",
   "execution_count": 52,
   "metadata": {},
   "outputs": [],
   "source": [
    "# First find ip address \n",
    "r = requests.get('http://www.whatsmyip.org/')"
   ]
  },
  {
   "cell_type": "code",
   "execution_count": 54,
   "metadata": {
    "scrolled": false
   },
   "outputs": [],
   "source": [
    "bs = BeautifulSoup(r.text,'html.parser')"
   ]
  },
  {
   "cell_type": "code",
   "execution_count": 62,
   "metadata": {
    "scrolled": true
   },
   "outputs": [],
   "source": [
    "# print(bs.prettify())"
   ]
  },
  {
   "cell_type": "code",
   "execution_count": 65,
   "metadata": {},
   "outputs": [
    {
     "data": {
      "text/plain": [
       "<span id=\"ip\">95.108.103.242</span>"
      ]
     },
     "execution_count": 65,
     "metadata": {},
     "output_type": "execute_result"
    }
   ],
   "source": [
    "bs.find(id='ip')"
   ]
  },
  {
   "cell_type": "code",
   "execution_count": 69,
   "metadata": {},
   "outputs": [],
   "source": [
    "# Components of the api call \n",
    "# partner_id = 237084\n",
    "# key = 'bDTlO1Yu1UE'\n",
    "# query = 'propertyguru'\n",
    "# ip = '95.108.103.242'"
   ]
  },
  {
   "cell_type": "code",
   "execution_count": 70,
   "metadata": {
    "collapsed": true
   },
   "outputs": [],
   "source": [
    "url = 'http://api.glassdoor.com/api/api.htm?v=1&format=json&t.p=237084&t.k=bDTlO1Yu1UE&action=employers&q=propertyguru&userip=95.108.103.242'"
   ]
  },
  {
   "cell_type": "code",
   "execution_count": 84,
   "metadata": {
    "collapsed": true
   },
   "outputs": [],
   "source": [
    "# Need to include a header to avoid 403 \n",
    "headers = {'user-agent': 'Mozilla/5.0'}\n",
    "res = requests.get(url,headers=headers)"
   ]
  },
  {
   "cell_type": "code",
   "execution_count": 89,
   "metadata": {},
   "outputs": [],
   "source": [
    "sp = BeautifulSoup(res.text,'lxml')"
   ]
  },
  {
   "cell_type": "code",
   "execution_count": 92,
   "metadata": {},
   "outputs": [
    {
     "name": "stdout",
     "output_type": "stream",
     "text": [
      "<html>\n",
      " <body>\n",
      "  <p>\n",
      "   {\n",
      "  \"success\": true,\n",
      "  \"status\": \"OK\",\n",
      "  \"jsessionid\": \"BC21F353C572F7BE4B4E5C5A734A44EF\",\n",
      "  \"response\": {\n",
      "    \"attributionURL\": \"http://www.glassdoor.com/Reviews/propertyguru-reviews-SRCH_KE0,12.htm\",\n",
      "    \"currentPageNumber\": 1,\n",
      "    \"totalNumberOfPages\": 1,\n",
      "    \"totalRecordCount\": 1,\n",
      "    \"employers\": [{\n",
      "      \"id\": 569438,\n",
      "      \"name\": \"PropertyGuru.com\",\n",
      "      \"website\": \"www.propertygurugroup.com\",\n",
      "      \"isEEP\": true,\n",
      "      \"exactMatch\": false,\n",
      "      \"industry\": \"Internet\",\n",
      "      \"numberOfRatings\": 40,\n",
      "      \"squareLogo\": \"https://media.glassdoor.com/sqll/569438/propertyguru-com-sg-squarelogo-1425973721404.png\",\n",
      "      \"overallRating\": \"3.1\",\n",
      "      \"ratingDescription\": \"OK\",\n",
      "      \"cultureAndValuesRating\": \"2.9\",\n",
      "      \"seniorLeadershipRating\": \"2.8\",\n",
      "      \"compensationAndBenefitsRating\": \"2.9\",\n",
      "      \"careerOpportunitiesRating\": \"2.9\",\n",
      "      \"workLifeBalanceRating\": \"3.2\",\n",
      "      \"recommendToFriendRating\": 52,\n",
      "      \"sectorId\": 10013,\n",
      "      \"sectorName\": \"Information Technology\",\n",
      "      \"industryId\": 200063,\n",
      "      \"industryName\": \"Internet\",\n",
      "      \"ceo\": {\n",
      "        \"name\": \"Hari V. Krishnan\",\n",
      "        \"title\": \"CEO\",\n",
      "        \"numberOfRatings\": 19,\n",
      "        \"pctApprove\": 64,\n",
      "        \"pctDisapprove\": 36\n",
      "      }\n",
      "    }]\n",
      "  }\n",
      "}\n",
      "  </p>\n",
      " </body>\n",
      "</html>\n"
     ]
    }
   ],
   "source": [
    "print(sp.prettify())"
   ]
  }
 ],
 "metadata": {
  "kernelspec": {
   "display_name": "Python 3",
   "language": "python",
   "name": "python3"
  },
  "language_info": {
   "codemirror_mode": {
    "name": "ipython",
    "version": 3
   },
   "file_extension": ".py",
   "mimetype": "text/x-python",
   "name": "python",
   "nbconvert_exporter": "python",
   "pygments_lexer": "ipython3",
   "version": "3.6.3"
  }
 },
 "nbformat": 4,
 "nbformat_minor": 2
}
