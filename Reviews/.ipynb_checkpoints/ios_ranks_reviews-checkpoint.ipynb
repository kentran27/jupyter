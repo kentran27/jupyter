{
 "cells": [
  {
   "cell_type": "code",
   "execution_count": 2,
   "metadata": {
    "collapsed": true
   },
   "outputs": [],
   "source": [
    "import requests"
   ]
  },
  {
   "cell_type": "code",
   "execution_count": 13,
   "metadata": {
    "collapsed": true
   },
   "outputs": [],
   "source": [
    "app_id = {'icsg':'482524585','icmy':'487538098', 'icth':'487558434','icid':'487554800', \n",
    "          'iasg':'406066172', 'iamy':'466992110','iath':'512477567','iaid':'1128614637'}\n",
    "base_url = 'https://itunes.apple.com/'\n",
    "names = ['PropertyGuru Singapore','PropertyGuru Malaysia','Rumah.com','DDproperty Thailand','99.co', 'iProperty Singapore','iProperty Malaysia']\n",
    "country = ['sg','my','th','id']"
   ]
  },
  {
   "cell_type": "code",
   "execution_count": 7,
   "metadata": {
    "collapsed": true
   },
   "outputs": [],
   "source": [
    "# Get app rankings \n",
    "def get_rank(c):\n",
    "    url = base_url + c + '/rss/topfreeapplications/limit=100/genre=6012/json'\n",
    "    r = requests.get(url)\n",
    "    raw = r.json()\n",
    "    data = [i.get('im:name')['label'] for i in raw['feed']['entry']]\n",
    "    res = []\n",
    "    for k, v in enumerate(data):\n",
    "        for name in names:\n",
    "            if name.lower() == v.lower():\n",
    "                res.append([name, data.index(name)])\n",
    "    return res"
   ]
  },
  {
   "cell_type": "code",
   "execution_count": 8,
   "metadata": {},
   "outputs": [
    {
     "data": {
      "text/plain": [
       "[['PropertyGuru Singapore', 11], ['99.co', 34], ['iProperty Singapore', 54]]"
      ]
     },
     "execution_count": 8,
     "metadata": {},
     "output_type": "execute_result"
    }
   ],
   "source": [
    "get_rank('sg')"
   ]
  },
  {
   "cell_type": "code",
   "execution_count": 9,
   "metadata": {},
   "outputs": [
    {
     "name": "stdout",
     "output_type": "stream",
     "text": [
      "sg [['PropertyGuru Singapore', 11], ['99.co', 34], ['iProperty Singapore', 54]]\n",
      "my [['PropertyGuru Malaysia', 17], ['iProperty Malaysia', 21]]\n",
      "th [['DDproperty Thailand', 40]]\n",
      "id [['Rumah.com', 16]]\n"
     ]
    }
   ],
   "source": [
    "for k, v in enumerate(country):\n",
    "    print(v, get_rank(v))"
   ]
  },
  {
   "cell_type": "code",
   "execution_count": 10,
   "metadata": {
    "collapsed": true
   },
   "outputs": [],
   "source": [
    "# Get app reviews "
   ]
  },
  {
   "cell_type": "code",
   "execution_count": 11,
   "metadata": {
    "collapsed": true
   },
   "outputs": [],
   "source": [
    "def get_reviews(c, app):\n",
    "    url = base_url + c + '/rss/customerreviews/id=' + app + '/json'\n",
    "    r = requests.get(url)\n",
    "    raw = r.json()\n",
    "    \n",
    "    for item in raw['feed']['entry'][1:]:\n",
    "        res = []\n",
    "        if int(item['im:rating']['label']) <= 3: \n",
    "            print (item['title']['label'], item['im:rating']['label'], item['content']['label'], '\\n') "
   ]
  },
  {
   "cell_type": "code",
   "execution_count": 12,
   "metadata": {},
   "outputs": [
    {
     "name": "stdout",
     "output_type": "stream",
     "text": [
      "Can’t preview pix 2 Can’t preview pic on iPhone X \n",
      "\n",
      "No more historical transction prices!!! 1 Trans prices are now just limited to the last 2-3 years as compared to full historical prices previously. This is a HUGE step BACKWARDS in today’s market. Not sure why this was done. Besides upsetting real estate agents with their huge price hikes, PG is turning its sights on its users! Suggest you all look elsewhere - what’s left in the App is very mediocre...! \n",
      "\n",
      "This app 1 Is what rank in Singapore, and other ASEAN nations? \n",
      "\n",
      "Poor functionality 2 The alert doesn't work. Need to key in searches every single time. Limited functions. At least allow one to see what is available nearby on the map.  Will be helpful if there is information of bus stops, mrt, schools nearby. Floor plan etc. It serves a bit more than classifieds. That's it. \n",
      "\n",
      "Property guru package pricing 1 Why fix the bugs? U should fix the price. The pricing for Property Guru has been going up, not down. We are agents that don’t have so much money to pay for your yearly increment to $1880. You should fix your price not only the bugs. \n",
      "\n",
      "Inaccurate postings. Missing developments. 1 Outdated postings are still been displayed when you search by distance radius function. It appears but when you click on it, It hangs the app. But when you search direct development name, the posting is actually not there. Programming algorithm!! Sort it out. \n",
      "Before the next Property app gets ahead it’s time to sort it out. Btw D’ecosia in D15 is no longer in the app. Your IT infrastructure needs improvement! \n",
      "\n",
      "Very annoying pop up 1 Very very annoying pop up keeps asking review !!!!! \n",
      "\n",
      "Distance to MRT Stations are inaccurate 3 Distance to MRT Stations are very inaccurate for Map and Nearby \n",
      "\n",
      "Lousy app 1 Unfair search results that prioritizes listings irrelevant to my search \n",
      "\n",
      "Rating request 3 Locations on map are not accurate \n",
      "\n",
      "Why keep force people rate? 1 Is irritating the pop out! \n",
      "\n",
      "Advertisement is killing this app. Forcing users to give feedbacks! :( 3 As above \n",
      "\n",
      "Go for 99.co 1 I think PG getting too many dummy listing. \n",
      "\n",
      "Hate the app keep popup asking for rate and review the app 1 As title \n",
      "\n",
      "Annoying pop up 1 This pop up is so annoying. Lousy search \n",
      "\n",
      "Drop in listings 1 Have to search other websites nowadays as I found other listings there. Seems like some agents no longer list in Propertyguru. Used to be the market leader where you can find most of the listings there. No longer the case. \n",
      "\n",
      "Pop up really irritating 1 Constantly asks to review the app. If you say no thanks it won't give up. It'll keep annoying you to review itself. Come on guys, stop irritating us. \n",
      "\n",
      "Keep insist on getting a review 1 There you go your review \n",
      "\n",
      "Annoying pop ups 2 After the update... a pop up keeps showing to review this app. Despite rating, it will still ask for a review. After this review I will see if it goes away or not... if not I think I will stop using \n",
      "\n",
      "Annoying 1 Keep asking me to rate a review \n",
      "\n",
      "One star for your reminders! 1 You will definitely get higher ratings, if only you stop asking for it! \n",
      "\n",
      "Rental 3 Good to use \n",
      "\n",
      "Search & Filter don't work well. 1 Please update. \n",
      "\n",
      "annoying review pop up 2 apart from its annoying review pop up, if you are looking for entire room for rent, room rental. will be included in the searches. it doesnt filter what you only need. \n",
      "\n",
      "Horrible version 1 What's wrong with you guys to force people to rate? The no thanks don't work because it prompts me again and again just after a min. I Guess rating once won't help too \n",
      "\n",
      "Hates the pop up 2 Is there a way to disable the pop up? It is very disturbing. \n",
      "\n",
      "Dislike the pop up 1 Dislike the pop up \n",
      "\n",
      "Irritating 1 Irritating, keep prompt out the rating! \n",
      "\n",
      "Useful if u do not mind being disturbed 1 Useful. But too much bothered by the pop up asking you to rate this app. 1 star because you disturb me too much. 3 star for app overall. \n",
      "\n",
      "Irritated to review 3 Good app but forced to review so many times \n",
      "\n",
      "Stupid App 1 Hate the pop ups \n",
      "\n",
      "Disturbing 2 Dont ask me to review many times \n",
      "\n",
      "Keep forcing me to give rating 1 Irritating prompt forcing me to give rating. Will give zero stars if possible just because it was being Irritating \n",
      "\n",
      "Buggy 1 Buggy apps. Keep on nagging user to rate. \n",
      "\n"
     ]
    }
   ],
   "source": [
    "sg = get_reviews('sg','482524585')"
   ]
  }
 ],
 "metadata": {
  "anaconda-cloud": {},
  "kernelspec": {
   "display_name": "Python 3",
   "language": "python",
   "name": "python3"
  },
  "language_info": {
   "codemirror_mode": {
    "name": "ipython",
    "version": 3
   },
   "file_extension": ".py",
   "mimetype": "text/x-python",
   "name": "python",
   "nbconvert_exporter": "python",
   "pygments_lexer": "ipython3",
   "version": "3.6.3"
  }
 },
 "nbformat": 4,
 "nbformat_minor": 1
}
