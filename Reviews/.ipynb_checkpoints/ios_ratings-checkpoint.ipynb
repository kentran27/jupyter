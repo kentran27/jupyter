{
 "cells": [
  {
   "cell_type": "code",
   "execution_count": 1,
   "metadata": {
    "collapsed": true
   },
   "outputs": [],
   "source": [
    "import requests"
   ]
  },
  {
   "cell_type": "code",
   "execution_count": 2,
   "metadata": {
    "collapsed": true
   },
   "outputs": [],
   "source": [
    "app_id = {'icsg':'482524585','icmy':'487538098', 'icth':'487558434','icid':'487554800', \n",
    "          'iasg':'406066172', 'iamy':'466992110','iath':'512477567','iaid':'1128614637'}\n",
    "url = 'https://itunes.apple.com/lookup?id='"
   ]
  },
  {
   "cell_type": "code",
   "execution_count": 3,
   "metadata": {
    "collapsed": true
   },
   "outputs": [],
   "source": [
    "def get_ratings(name):\n",
    "    if name in app_id.keys():\n",
    "        r = requests.get(url + app_id[name])\n",
    "        data = r.json()\n",
    "        if data['results'][0].get('averageUserRating'):\n",
    "            return name, data['results'][0]['averageUserRating']\n",
    "        else:\n",
    "            return name, data['results'][0]['trackContentRating'] \n",
    "                # handle when there's no avg ratings \n",
    "    else:\n",
    "        return 'Invalid name'"
   ]
  },
  {
   "cell_type": "code",
   "execution_count": 4,
   "metadata": {},
   "outputs": [
    {
     "data": {
      "text/plain": [
       "('icsg', 3.0)"
      ]
     },
     "execution_count": 4,
     "metadata": {},
     "output_type": "execute_result"
    }
   ],
   "source": [
    "get_ratings('icsg')"
   ]
  },
  {
   "cell_type": "code",
   "execution_count": 5,
   "metadata": {},
   "outputs": [
    {
     "data": {
      "text/plain": [
       "'Invalid name'"
      ]
     },
     "execution_count": 5,
     "metadata": {},
     "output_type": "execute_result"
    }
   ],
   "source": [
    "get_ratings('cow')"
   ]
  },
  {
   "cell_type": "code",
   "execution_count": 6,
   "metadata": {},
   "outputs": [
    {
     "name": "stdout",
     "output_type": "stream",
     "text": [
      "('icsg', 3.0)\n",
      "('icmy', 4.5)\n",
      "('icth', 4.0)\n",
      "('icid', 4.5)\n",
      "('iasg', '4+')\n",
      "('iamy', '4+')\n",
      "('iath', '4+')\n",
      "('iaid', '4+')\n"
     ]
    }
   ],
   "source": [
    "for item in app_id.keys():\n",
    "    print(get_ratings(item))"
   ]
  }
 ],
 "metadata": {
  "kernelspec": {
   "display_name": "Python 3",
   "language": "python",
   "name": "python3"
  },
  "language_info": {
   "codemirror_mode": {
    "name": "ipython",
    "version": 3
   },
   "file_extension": ".py",
   "mimetype": "text/x-python",
   "name": "python",
   "nbconvert_exporter": "python",
   "pygments_lexer": "ipython3",
   "version": "3.6.3"
  }
 },
 "nbformat": 4,
 "nbformat_minor": 2
}
